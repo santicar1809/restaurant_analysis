{
 "cells": [
  {
   "cell_type": "markdown",
   "metadata": {},
   "source": [
    "# Part 1\n",
    "\n",
    "Subway is looking to raise growth equity capital to further expand in Brazil. Our fund is looking to conduct outside-in diligence on the company to assess its current state and further opportunities in order to decide whether to participate in the process.\n",
    "The fund would like you to evaluate the company and provide data-driven insights and recommendations. The base analysis should include the following:\n",
    "\n",
    "    ● Current % coverage of Brazilian population & additional locations needed to cover additional 2% of the population\n",
    "\n",
    "    ● Overlap with Mcdonald’s locations (i.e., % of locations with overlap within a 1-, 5-, 10-km radius)\n",
    "\n",
    "In addition to the location analysis, you may choose to use additional data points or analyses to further your recommendations. Here are a few ideas of signals that we often look at, please note these are simply ideas of optional additions to your final analysis.\n",
    "\n",
    "    ● Social media sentiment\n",
    "    ● Employee sentiment\n",
    "    ● Pricing / cost signals\n",
    "    ● International opportunities\n",
    "    ● Any additional factors you think that we should consider\n",
    "\n",
    "Here are some sources to get you started:\n",
    "\n",
    "    ● Databases provided in the “Data” folder along with this file. \n",
    "    ● https://www.ibge.gov.br"
   ]
  },
  {
   "cell_type": "markdown",
   "metadata": {},
   "source": [
    "## Import libraries"
   ]
  },
  {
   "cell_type": "code",
   "execution_count": 1,
   "metadata": {},
   "outputs": [
    {
     "name": "stderr",
     "output_type": "stream",
     "text": [
      "c:\\Users\\Santiago\\AppData\\Local\\Programs\\Python\\Python312\\Lib\\site-packages\\tqdm\\auto.py:21: TqdmWarning: IProgress not found. Please update jupyter and ipywidgets. See https://ipywidgets.readthedocs.io/en/stable/user_install.html\n",
      "  from .autonotebook import tqdm as notebook_tqdm\n"
     ]
    }
   ],
   "source": [
    "import pandas as pd\n",
    "import numpy as np\n",
    "import matplotlib.pyplot as plt\n",
    "import plotly.express as px\n",
    "import seaborn as sns\n",
    "import chardet\n",
    "import re\n",
    "import plotly.graph_objects as go\n",
    "import folium\n",
    "from folium import plugins\n",
    "from geopy.geocoders import Nominatim\n",
    "import geopandas as gpd\n",
    "from shapely.geometry import Point\n",
    "from geopy.distance import geodesic\n",
    "import os\n",
    "import ast\n",
    "from transformers import pipeline\n",
    "import praw\n",
    "from vaderSentiment.vaderSentiment import SentimentIntensityAnalyzer\n",
    "from textblob import TextBlob\n",
    "import requests\n",
    "from bs4 import BeautifulSoup\n"
   ]
  },
  {
   "cell_type": "markdown",
   "metadata": {},
   "source": [
    "## Load Datasets\n"
   ]
  },
  {
   "cell_type": "code",
   "execution_count": 2,
   "metadata": {},
   "outputs": [],
   "source": [
    "subw_data = pd.read_csv('Subway_Locations.csv')\n",
    "mc_data = pd.read_csv('Mcdonalds_Locations.csv')"
   ]
  },
  {
   "cell_type": "markdown",
   "metadata": {},
   "source": [
    "### City Population\n",
    "[Link Here](https://www.ibge.gov.br/estatisticas/downloads-estatisticas.html?caminho=Censos/Censo_Demografico_2022/Agregados_por_Setores_Censitarios/Agregados_por_Municipio_csv/)"
   ]
  },
  {
   "cell_type": "code",
   "execution_count": 3,
   "metadata": {},
   "outputs": [
    {
     "name": "stdout",
     "output_type": "stream",
     "text": [
      "Detected encoding: ISO-8859-1\n"
     ]
    }
   ],
   "source": [
    "# Detect encoding\n",
    "with open(\"pob_brasil_city.csv\", \"rb\") as file:\n",
    "    raw_data = file.read()\n",
    "    result = chardet.detect(raw_data)\n",
    "    encoding = result['encoding']\n",
    "    print(f\"Detected encoding: {encoding}\")"
   ]
  },
  {
   "cell_type": "code",
   "execution_count": 4,
   "metadata": {},
   "outputs": [],
   "source": [
    "pob_city = pd.read_csv('pob_brasil_city.csv',sep=\";\",encoding=\"ISO-8859-1\")"
   ]
  },
  {
   "cell_type": "markdown",
   "metadata": {},
   "source": [
    "## Preprocessing data"
   ]
  },
  {
   "cell_type": "code",
   "execution_count": 5,
   "metadata": {},
   "outputs": [],
   "source": [
    "# Function to format data columns\n",
    "def to_snake_case(name):\n",
    "    s1 = re.sub('(.)([A-Z][a-z]+)', r'\\1_\\2', name)\n",
    "    s1 = s1.replace(' ','_')\n",
    "    s2 = s1.replace('-','')\n",
    "    s3 = s2.replace(',','')\n",
    "    return re.sub('([a-z0-9])([A-Z])', r'\\1_\\2', s3).lower()\n",
    "\n",
    "def columns_transformer(data):\n",
    "    columns=data.columns\n",
    "    new_cols=[]\n",
    "    for i in columns:\n",
    "        i=to_snake_case(i)\n",
    "        new_cols.append(i)\n",
    "    data.columns=new_cols\n",
    "    print(data.columns)\n",
    "    return data"
   ]
  },
  {
   "cell_type": "code",
   "execution_count": 6,
   "metadata": {},
   "outputs": [],
   "source": [
    "\n",
    "# Mapping of accented characters to unaccented counterparts\n",
    "accented_to_unaccented = {\n",
    "    'á': 'a', 'ã': 'a', 'à': 'a', 'â': 'a',\n",
    "    'é': 'e', 'ê': 'e',\n",
    "    'í': 'i',\n",
    "    'ó': 'o', 'õ': 'o', 'ô': 'o',\n",
    "    'ú': 'u',\n",
    "    'ç': 'c',\n",
    "    'Á': 'A', 'Ã': 'A', 'À': 'A', 'Â': 'A',\n",
    "    'É': 'E', 'Ê': 'E',\n",
    "    'Í': 'I',\n",
    "    'Ó': 'O', 'Õ': 'O', 'Ô': 'O',\n",
    "    'Ú': 'U',\n",
    "    'Ç': 'C'\n",
    "}\n",
    "\n",
    "# Function to replace accented characters\n",
    "def replace_accented(text):\n",
    "    s1 = re.sub(r'[áãàâéêíóõôúçÁÃÀÂÉÊÍÓÕÔÚÇ]', \n",
    "                  lambda match: accented_to_unaccented[match.group(0)], \n",
    "                  text)\n",
    "    s2 = s1.replace(' ','-')\n",
    "    s3 = s2.replace(\"'\",\"\")\n",
    "    s4 = s3.replace(\"-d-\",\"-d\")\n",
    "    return s4.lower()"
   ]
  },
  {
   "cell_type": "code",
   "execution_count": 7,
   "metadata": {},
   "outputs": [
    {
     "name": "stdout",
     "output_type": "stream",
     "text": [
      "Index(['unnamed:_0', 'code', 'name', 'maps__link', 'restaurant__link',\n",
      "       'neighbour', 'city', 'state', 'data_address', 'address', 'tel'],\n",
      "      dtype='object')\n",
      "Index(['cd_mun', 'nm_mun', 'quantidade_de_moradores', 'sexo_masculino',\n",
      "       'sexo_feminino', 'sexo_masculino_0_a_4_anos',\n",
      "       'sexo_masculino_5_a_9_anos', 'sexo_masculino_10_a_14_anos',\n",
      "       'sexo_masculino_15_a_19_anos', 'sexo_masculino_20_a_24_anos',\n",
      "       'sexo_masculino_25_a_29_anos', 'sexo_masculino_30_a_39_anos',\n",
      "       'sexo_masculino_40_a_49_anos', 'sexo_masculino_50_a_59_anos',\n",
      "       'sexo_masculino_60_a_69_anos', 'sexo_masculino_70_anos_ou_mais',\n",
      "       'sexo_feminino_0_a_4_anos', 'sexo_feminino_5_a_9_anos',\n",
      "       'sexo_feminino_10_a_14_anos', 'sexo_feminino_15_a_19_anos',\n",
      "       'sexo_feminino_20_a_24_anos', 'sexo_feminino_25_a_29_anos',\n",
      "       'sexo_feminino_30_a_39_anos', 'sexo_feminino_40_a_49_anos',\n",
      "       'sexo_feminino_50_a_59_anos', 'sexo_feminino_60_a_69_anos',\n",
      "       'sexo_feminino_70_anos_ou_mais', '0_a_4_anos', '5_a_9_anos',\n",
      "       '10_a_14_anos', '15_a_19_anos', '20_a_24_anos', '25_a_29_anos',\n",
      "       '30_a_39_anos', '40_a_49_anos', '50_a_59_anos', '60_a_69_anos',\n",
      "       '70_anos_ou_mais'],\n",
      "      dtype='object')\n",
      "Index(['unnamed:_0', '_id', 'active', 'name', 'code', 'coordinates', 'country',\n",
      "       'timezone', 'address', 'city', 'neighborhood', 'cep', 'services',\n",
      "       'created_at', 'updated_at', 'time_slots_service', 'general_hour',\n",
      "       'alias', 'ecommerce', 'promotions', 'loyalty', 'distance', 'id',\n",
      "       'siglas'],\n",
      "      dtype='object')\n"
     ]
    }
   ],
   "source": [
    "# Column transform to snake_case\n",
    "subw_data = columns_transformer(subw_data)\n",
    "pob_city = columns_transformer(pob_city)\n",
    "mc_data = columns_transformer(mc_data)"
   ]
  },
  {
   "cell_type": "markdown",
   "metadata": {},
   "source": [
    "### Subway Locations"
   ]
  },
  {
   "cell_type": "code",
   "execution_count": 8,
   "metadata": {},
   "outputs": [
    {
     "name": "stdout",
     "output_type": "stream",
     "text": [
      "<class 'pandas.core.frame.DataFrame'>\n",
      "RangeIndex: 1625 entries, 0 to 1624\n",
      "Data columns (total 11 columns):\n",
      " #   Column            Non-Null Count  Dtype \n",
      "---  ------            --------------  ----- \n",
      " 0   unnamed:_0        1625 non-null   int64 \n",
      " 1   code              1625 non-null   int64 \n",
      " 2   name              1625 non-null   object\n",
      " 3   maps__link        1625 non-null   object\n",
      " 4   restaurant__link  1625 non-null   object\n",
      " 5   neighbour         1625 non-null   object\n",
      " 6   city              1625 non-null   object\n",
      " 7   state             1625 non-null   object\n",
      " 8   data_address      1625 non-null   object\n",
      " 9   address           1625 non-null   object\n",
      " 10  tel               1484 non-null   object\n",
      "dtypes: int64(2), object(9)\n",
      "memory usage: 139.8+ KB\n"
     ]
    }
   ],
   "source": [
    "subw_data.info()"
   ]
  },
  {
   "cell_type": "code",
   "execution_count": 9,
   "metadata": {},
   "outputs": [],
   "source": [
    "subw_data.drop(['unnamed:_0'],axis=1,inplace=True)"
   ]
  },
  {
   "cell_type": "code",
   "execution_count": 10,
   "metadata": {},
   "outputs": [
    {
     "data": {
      "text/plain": [
       "0"
      ]
     },
     "execution_count": 10,
     "metadata": {},
     "output_type": "execute_result"
    }
   ],
   "source": [
    "subw_data.duplicated().sum()"
   ]
  },
  {
   "cell_type": "code",
   "execution_count": 11,
   "metadata": {},
   "outputs": [
    {
     "data": {
      "text/plain": [
       "code                  0\n",
       "name                  0\n",
       "maps__link            0\n",
       "restaurant__link      0\n",
       "neighbour             0\n",
       "city                  0\n",
       "state                 0\n",
       "data_address          0\n",
       "address               0\n",
       "tel                 141\n",
       "dtype: int64"
      ]
     },
     "execution_count": 11,
     "metadata": {},
     "output_type": "execute_result"
    }
   ],
   "source": [
    "subw_data.isna().sum()"
   ]
  },
  {
   "cell_type": "code",
   "execution_count": 12,
   "metadata": {},
   "outputs": [],
   "source": [
    "subw_data['city']=subw_data['city'].apply(replace_accented)"
   ]
  },
  {
   "cell_type": "code",
   "execution_count": 13,
   "metadata": {},
   "outputs": [],
   "source": [
    "# Change tel column to boolean\n",
    "subw_data['tel'].fillna(False)\n",
    "def tel(data):\n",
    "    if data!=False:\n",
    "        return True\n",
    "subw_data['tel']=subw_data['tel'].apply(tel)"
   ]
  },
  {
   "cell_type": "code",
   "execution_count": 14,
   "metadata": {},
   "outputs": [],
   "source": [
    "# We change the city names that does not match\n",
    "subw_data['city']=subw_data['city'].replace('cabo-de-sto-agostinho','cabo-de-santo-agostinho')\n",
    "subw_data['city']=subw_data['city'].replace('igarussu','igarassu')\n",
    "subw_data['city']=subw_data['city'].replace('monte-camelo','monte-carmelo')\n",
    "subw_data['city']=subw_data['city'].replace('paraupebas','parauapebas')\n",
    "subw_data['city']=subw_data['city'].replace('embu','embu-das-artes')"
   ]
  },
  {
   "cell_type": "code",
   "execution_count": 15,
   "metadata": {},
   "outputs": [
    {
     "data": {
      "text/html": [
       "<div>\n",
       "<style scoped>\n",
       "    .dataframe tbody tr th:only-of-type {\n",
       "        vertical-align: middle;\n",
       "    }\n",
       "\n",
       "    .dataframe tbody tr th {\n",
       "        vertical-align: top;\n",
       "    }\n",
       "\n",
       "    .dataframe thead th {\n",
       "        text-align: right;\n",
       "    }\n",
       "</style>\n",
       "<table border=\"1\" class=\"dataframe\">\n",
       "  <thead>\n",
       "    <tr style=\"text-align: right;\">\n",
       "      <th></th>\n",
       "      <th>code</th>\n",
       "      <th>name</th>\n",
       "      <th>maps__link</th>\n",
       "      <th>restaurant__link</th>\n",
       "      <th>neighbour</th>\n",
       "      <th>city</th>\n",
       "      <th>state</th>\n",
       "      <th>data_address</th>\n",
       "      <th>address</th>\n",
       "      <th>tel</th>\n",
       "    </tr>\n",
       "  </thead>\n",
       "  <tbody>\n",
       "    <tr>\n",
       "      <th>0</th>\n",
       "      <td>41067</td>\n",
       "      <td>Subway Centro</td>\n",
       "      <td>https://maps.google.com/maps/dir/?api=1&amp;destin...</td>\n",
       "      <td>https://restaurantes.subway.com/subway-centro-...</td>\n",
       "      <td>centro-santo-estevao-bahia</td>\n",
       "      <td>santo-estevao</td>\n",
       "      <td>bahia</td>\n",
       "      <td>avenida-getulio-vargas-s-n-centro-santo-esteva...</td>\n",
       "      <td>Avenida Getúlio Vargas, S/...</td>\n",
       "      <td>True</td>\n",
       "    </tr>\n",
       "    <tr>\n",
       "      <th>1</th>\n",
       "      <td>41082</td>\n",
       "      <td>Subway Barra</td>\n",
       "      <td>https://maps.google.com/maps/dir/?api=1&amp;destin...</td>\n",
       "      <td>https://restaurantes.subway.com/subway-barra-s...</td>\n",
       "      <td>barra-salvador-bahia</td>\n",
       "      <td>salvador</td>\n",
       "      <td>bahia</td>\n",
       "      <td>supermercado-bom-preco-2786-supermercado-bom-p...</td>\n",
       "      <td>Supermercado Bom Preço, 27...</td>\n",
       "      <td>True</td>\n",
       "    </tr>\n",
       "    <tr>\n",
       "      <th>2</th>\n",
       "      <td>42701</td>\n",
       "      <td>Subway Centro</td>\n",
       "      <td>https://maps.google.com/maps/dir/?api=1&amp;destin...</td>\n",
       "      <td>https://restaurantes.subway.com/subway-centro-...</td>\n",
       "      <td>centro-santo-antonio-de-jesus-bahia</td>\n",
       "      <td>santo-antonio-de-jesus</td>\n",
       "      <td>bahia</td>\n",
       "      <td>avenida-governador-roberto-santos-loja-166-ita...</td>\n",
       "      <td>Avenida Governador Roberto...</td>\n",
       "      <td>True</td>\n",
       "    </tr>\n",
       "    <tr>\n",
       "      <th>3</th>\n",
       "      <td>42714</td>\n",
       "      <td>Subway Centro</td>\n",
       "      <td>https://maps.google.com/maps/dir/?api=1&amp;destin...</td>\n",
       "      <td>https://restaurantes.subway.com/subway-centro-...</td>\n",
       "      <td>centro-itabuna-bahia</td>\n",
       "      <td>itabuna</td>\n",
       "      <td>bahia</td>\n",
       "      <td>rua-professor-alicio-de-queiros-118a-centro-it...</td>\n",
       "      <td>Rua Professor Alício De Qu...</td>\n",
       "      <td>True</td>\n",
       "    </tr>\n",
       "    <tr>\n",
       "      <th>4</th>\n",
       "      <td>42699</td>\n",
       "      <td>Subway Centro</td>\n",
       "      <td>https://maps.google.com/maps/dir/?api=1&amp;destin...</td>\n",
       "      <td>https://restaurantes.subway.com/subway-centro-...</td>\n",
       "      <td>centro-guanambi-bahia</td>\n",
       "      <td>guanambi</td>\n",
       "      <td>bahia</td>\n",
       "      <td>avenida-santos-dumont-terreo-centro-guanambi-b...</td>\n",
       "      <td>Avenida Santos Dumont - Té...</td>\n",
       "      <td>True</td>\n",
       "    </tr>\n",
       "  </tbody>\n",
       "</table>\n",
       "</div>"
      ],
      "text/plain": [
       "    code           name                                         maps__link  \\\n",
       "0  41067  Subway Centro  https://maps.google.com/maps/dir/?api=1&destin...   \n",
       "1  41082   Subway Barra  https://maps.google.com/maps/dir/?api=1&destin...   \n",
       "2  42701  Subway Centro  https://maps.google.com/maps/dir/?api=1&destin...   \n",
       "3  42714  Subway Centro  https://maps.google.com/maps/dir/?api=1&destin...   \n",
       "4  42699  Subway Centro  https://maps.google.com/maps/dir/?api=1&destin...   \n",
       "\n",
       "                                    restaurant__link  \\\n",
       "0  https://restaurantes.subway.com/subway-centro-...   \n",
       "1  https://restaurantes.subway.com/subway-barra-s...   \n",
       "2  https://restaurantes.subway.com/subway-centro-...   \n",
       "3  https://restaurantes.subway.com/subway-centro-...   \n",
       "4  https://restaurantes.subway.com/subway-centro-...   \n",
       "\n",
       "                             neighbour                    city  state  \\\n",
       "0           centro-santo-estevao-bahia           santo-estevao  bahia   \n",
       "1                 barra-salvador-bahia                salvador  bahia   \n",
       "2  centro-santo-antonio-de-jesus-bahia  santo-antonio-de-jesus  bahia   \n",
       "3                 centro-itabuna-bahia                 itabuna  bahia   \n",
       "4                centro-guanambi-bahia                guanambi  bahia   \n",
       "\n",
       "                                        data_address  \\\n",
       "0  avenida-getulio-vargas-s-n-centro-santo-esteva...   \n",
       "1  supermercado-bom-preco-2786-supermercado-bom-p...   \n",
       "2  avenida-governador-roberto-santos-loja-166-ita...   \n",
       "3  rua-professor-alicio-de-queiros-118a-centro-it...   \n",
       "4  avenida-santos-dumont-terreo-centro-guanambi-b...   \n",
       "\n",
       "                                             address   tel  \n",
       "0                      Avenida Getúlio Vargas, S/...  True  \n",
       "1                      Supermercado Bom Preço, 27...  True  \n",
       "2                      Avenida Governador Roberto...  True  \n",
       "3                      Rua Professor Alício De Qu...  True  \n",
       "4                      Avenida Santos Dumont - Té...  True  "
      ]
     },
     "execution_count": 15,
     "metadata": {},
     "output_type": "execute_result"
    }
   ],
   "source": [
    "subw_data.head(5)"
   ]
  },
  {
   "cell_type": "markdown",
   "metadata": {},
   "source": [
    "### McDonalds Locations"
   ]
  },
  {
   "cell_type": "code",
   "execution_count": 16,
   "metadata": {},
   "outputs": [
    {
     "name": "stdout",
     "output_type": "stream",
     "text": [
      "<class 'pandas.core.frame.DataFrame'>\n",
      "RangeIndex: 1160 entries, 0 to 1159\n",
      "Data columns (total 24 columns):\n",
      " #   Column              Non-Null Count  Dtype  \n",
      "---  ------              --------------  -----  \n",
      " 0   unnamed:_0          1160 non-null   int64  \n",
      " 1   _id                 1160 non-null   object \n",
      " 2   active              1160 non-null   bool   \n",
      " 3   name                1160 non-null   object \n",
      " 4   code                1160 non-null   object \n",
      " 5   coordinates         1160 non-null   object \n",
      " 6   country             1160 non-null   object \n",
      " 7   timezone            1160 non-null   object \n",
      " 8   address             1159 non-null   object \n",
      " 9   city                1155 non-null   object \n",
      " 10  neighborhood        1145 non-null   object \n",
      " 11  cep                 1093 non-null   object \n",
      " 12  services            1160 non-null   object \n",
      " 13  created_at          1160 non-null   object \n",
      " 14  updated_at          1160 non-null   object \n",
      " 15  time_slots_service  1160 non-null   object \n",
      " 16  general_hour        1158 non-null   object \n",
      " 17  alias               1099 non-null   object \n",
      " 18  ecommerce           1160 non-null   bool   \n",
      " 19  promotions          1160 non-null   bool   \n",
      " 20  loyalty             1160 non-null   bool   \n",
      " 21  distance            1160 non-null   float64\n",
      " 22  id                  1160 non-null   object \n",
      " 23  siglas              1160 non-null   object \n",
      "dtypes: bool(4), float64(1), int64(1), object(18)\n",
      "memory usage: 185.9+ KB\n"
     ]
    }
   ],
   "source": [
    "mc_data.info()"
   ]
  },
  {
   "cell_type": "code",
   "execution_count": 17,
   "metadata": {},
   "outputs": [
    {
     "data": {
      "text/plain": [
       "unnamed:_0             0\n",
       "_id                    0\n",
       "active                 0\n",
       "name                   0\n",
       "code                   0\n",
       "coordinates            0\n",
       "country                0\n",
       "timezone               0\n",
       "address                1\n",
       "city                   5\n",
       "neighborhood          15\n",
       "cep                   67\n",
       "services               0\n",
       "created_at             0\n",
       "updated_at             0\n",
       "time_slots_service     0\n",
       "general_hour           2\n",
       "alias                 61\n",
       "ecommerce              0\n",
       "promotions             0\n",
       "loyalty                0\n",
       "distance               0\n",
       "id                     0\n",
       "siglas                 0\n",
       "dtype: int64"
      ]
     },
     "execution_count": 17,
     "metadata": {},
     "output_type": "execute_result"
    }
   ],
   "source": [
    "mc_data.isna().sum()"
   ]
  },
  {
   "cell_type": "code",
   "execution_count": 18,
   "metadata": {},
   "outputs": [
    {
     "data": {
      "text/plain": [
       "0"
      ]
     },
     "execution_count": 18,
     "metadata": {},
     "output_type": "execute_result"
    }
   ],
   "source": [
    "mc_data.duplicated().sum()"
   ]
  },
  {
   "cell_type": "code",
   "execution_count": 19,
   "metadata": {},
   "outputs": [],
   "source": [
    "mc_data['coordinates'] = mc_data['coordinates'].apply(ast.literal_eval)\n",
    "mc_data['longitude'] = mc_data['coordinates'].apply(lambda x: x['longitude'])\n",
    "mc_data['latitude'] = mc_data['coordinates'].apply(lambda x: x['latitude'])\n",
    "mc_data.drop(['coordinates'],axis=1,inplace=True)"
   ]
  },
  {
   "cell_type": "code",
   "execution_count": 20,
   "metadata": {},
   "outputs": [],
   "source": [
    "mc_data = mc_data.reset_index(drop=True).dropna()"
   ]
  },
  {
   "cell_type": "code",
   "execution_count": 21,
   "metadata": {},
   "outputs": [],
   "source": [
    "mc_data.drop(['unnamed:_0'],axis=1,inplace=True)"
   ]
  },
  {
   "cell_type": "code",
   "execution_count": 22,
   "metadata": {},
   "outputs": [],
   "source": [
    "mc_data['city']=mc_data['city'].apply(replace_accented)"
   ]
  },
  {
   "cell_type": "markdown",
   "metadata": {},
   "source": [
    "### City Population"
   ]
  },
  {
   "cell_type": "code",
   "execution_count": 23,
   "metadata": {},
   "outputs": [
    {
     "name": "stdout",
     "output_type": "stream",
     "text": [
      "<class 'pandas.core.frame.DataFrame'>\n",
      "RangeIndex: 5570 entries, 0 to 5569\n",
      "Data columns (total 38 columns):\n",
      " #   Column                          Non-Null Count  Dtype \n",
      "---  ------                          --------------  ----- \n",
      " 0   cd_mun                          5570 non-null   int64 \n",
      " 1   nm_mun                          5570 non-null   object\n",
      " 2   quantidade_de_moradores         5570 non-null   int64 \n",
      " 3   sexo_masculino                  5570 non-null   int64 \n",
      " 4   sexo_feminino                   5570 non-null   int64 \n",
      " 5   sexo_masculino_0_a_4_anos       5570 non-null   int64 \n",
      " 6   sexo_masculino_5_a_9_anos       5570 non-null   int64 \n",
      " 7   sexo_masculino_10_a_14_anos     5570 non-null   int64 \n",
      " 8   sexo_masculino_15_a_19_anos     5570 non-null   int64 \n",
      " 9   sexo_masculino_20_a_24_anos     5570 non-null   int64 \n",
      " 10  sexo_masculino_25_a_29_anos     5570 non-null   int64 \n",
      " 11  sexo_masculino_30_a_39_anos     5570 non-null   int64 \n",
      " 12  sexo_masculino_40_a_49_anos     5570 non-null   int64 \n",
      " 13  sexo_masculino_50_a_59_anos     5570 non-null   int64 \n",
      " 14  sexo_masculino_60_a_69_anos     5570 non-null   int64 \n",
      " 15  sexo_masculino_70_anos_ou_mais  5570 non-null   int64 \n",
      " 16  sexo_feminino_0_a_4_anos        5570 non-null   int64 \n",
      " 17  sexo_feminino_5_a_9_anos        5570 non-null   int64 \n",
      " 18  sexo_feminino_10_a_14_anos      5570 non-null   int64 \n",
      " 19  sexo_feminino_15_a_19_anos      5570 non-null   int64 \n",
      " 20  sexo_feminino_20_a_24_anos      5570 non-null   int64 \n",
      " 21  sexo_feminino_25_a_29_anos      5570 non-null   int64 \n",
      " 22  sexo_feminino_30_a_39_anos      5570 non-null   int64 \n",
      " 23  sexo_feminino_40_a_49_anos      5570 non-null   int64 \n",
      " 24  sexo_feminino_50_a_59_anos      5570 non-null   int64 \n",
      " 25  sexo_feminino_60_a_69_anos      5570 non-null   int64 \n",
      " 26  sexo_feminino_70_anos_ou_mais   5570 non-null   int64 \n",
      " 27  0_a_4_anos                      5570 non-null   int64 \n",
      " 28  5_a_9_anos                      5570 non-null   int64 \n",
      " 29  10_a_14_anos                    5570 non-null   int64 \n",
      " 30  15_a_19_anos                    5570 non-null   int64 \n",
      " 31  20_a_24_anos                    5570 non-null   int64 \n",
      " 32  25_a_29_anos                    5570 non-null   int64 \n",
      " 33  30_a_39_anos                    5570 non-null   int64 \n",
      " 34  40_a_49_anos                    5570 non-null   int64 \n",
      " 35  50_a_59_anos                    5570 non-null   int64 \n",
      " 36  60_a_69_anos                    5570 non-null   int64 \n",
      " 37  70_anos_ou_mais                 5570 non-null   int64 \n",
      "dtypes: int64(37), object(1)\n",
      "memory usage: 1.6+ MB\n"
     ]
    }
   ],
   "source": [
    "pob_city.info()"
   ]
  },
  {
   "cell_type": "code",
   "execution_count": 24,
   "metadata": {},
   "outputs": [
    {
     "name": "stderr",
     "output_type": "stream",
     "text": [
      "C:\\Users\\Santiago\\AppData\\Local\\Temp\\ipykernel_19036\\1868393727.py:3: SettingWithCopyWarning: \n",
      "A value is trying to be set on a copy of a slice from a DataFrame.\n",
      "Try using .loc[row_indexer,col_indexer] = value instead\n",
      "\n",
      "See the caveats in the documentation: https://pandas.pydata.org/pandas-docs/stable/user_guide/indexing.html#returning-a-view-versus-a-copy\n",
      "  pob_city_acot['percentage_pop'] = 100*pob_city_acot['quantidade_de_moradores']/sum(pob_city_acot['quantidade_de_moradores'])\n"
     ]
    }
   ],
   "source": [
    "# We keep columns with the name of the city and the population number. Besides that, we calculate the percentage\n",
    "pob_city_acot = pob_city[['nm_mun','quantidade_de_moradores']]\n",
    "pob_city_acot['percentage_pop'] = 100*pob_city_acot['quantidade_de_moradores']/sum(pob_city_acot['quantidade_de_moradores'])"
   ]
  },
  {
   "cell_type": "code",
   "execution_count": 25,
   "metadata": {},
   "outputs": [
    {
     "data": {
      "text/html": [
       "<div>\n",
       "<style scoped>\n",
       "    .dataframe tbody tr th:only-of-type {\n",
       "        vertical-align: middle;\n",
       "    }\n",
       "\n",
       "    .dataframe tbody tr th {\n",
       "        vertical-align: top;\n",
       "    }\n",
       "\n",
       "    .dataframe thead th {\n",
       "        text-align: right;\n",
       "    }\n",
       "</style>\n",
       "<table border=\"1\" class=\"dataframe\">\n",
       "  <thead>\n",
       "    <tr style=\"text-align: right;\">\n",
       "      <th></th>\n",
       "      <th>quantidade_de_moradores</th>\n",
       "      <th>percentage_pop</th>\n",
       "    </tr>\n",
       "  </thead>\n",
       "  <tbody>\n",
       "    <tr>\n",
       "      <th>count</th>\n",
       "      <td>5.570000e+03</td>\n",
       "      <td>5570.000000</td>\n",
       "    </tr>\n",
       "    <tr>\n",
       "      <th>mean</th>\n",
       "      <td>3.636654e+04</td>\n",
       "      <td>0.017953</td>\n",
       "    </tr>\n",
       "    <tr>\n",
       "      <th>std</th>\n",
       "      <td>2.061361e+05</td>\n",
       "      <td>0.101765</td>\n",
       "    </tr>\n",
       "    <tr>\n",
       "      <th>min</th>\n",
       "      <td>8.330000e+02</td>\n",
       "      <td>0.000411</td>\n",
       "    </tr>\n",
       "    <tr>\n",
       "      <th>25%</th>\n",
       "      <td>5.213250e+03</td>\n",
       "      <td>0.002574</td>\n",
       "    </tr>\n",
       "    <tr>\n",
       "      <th>50%</th>\n",
       "      <td>1.104550e+04</td>\n",
       "      <td>0.005453</td>\n",
       "    </tr>\n",
       "    <tr>\n",
       "      <th>75%</th>\n",
       "      <td>2.438750e+04</td>\n",
       "      <td>0.012040</td>\n",
       "    </tr>\n",
       "    <tr>\n",
       "      <th>max</th>\n",
       "      <td>1.144108e+07</td>\n",
       "      <td>5.648197</td>\n",
       "    </tr>\n",
       "  </tbody>\n",
       "</table>\n",
       "</div>"
      ],
      "text/plain": [
       "       quantidade_de_moradores  percentage_pop\n",
       "count             5.570000e+03     5570.000000\n",
       "mean              3.636654e+04        0.017953\n",
       "std               2.061361e+05        0.101765\n",
       "min               8.330000e+02        0.000411\n",
       "25%               5.213250e+03        0.002574\n",
       "50%               1.104550e+04        0.005453\n",
       "75%               2.438750e+04        0.012040\n",
       "max               1.144108e+07        5.648197"
      ]
     },
     "execution_count": 25,
     "metadata": {},
     "output_type": "execute_result"
    }
   ],
   "source": [
    "pob_city_acot.describe()"
   ]
  },
  {
   "cell_type": "code",
   "execution_count": 26,
   "metadata": {},
   "outputs": [
    {
     "name": "stderr",
     "output_type": "stream",
     "text": [
      "C:\\Users\\Santiago\\AppData\\Local\\Temp\\ipykernel_19036\\4077112544.py:2: SettingWithCopyWarning: \n",
      "A value is trying to be set on a copy of a slice from a DataFrame.\n",
      "Try using .loc[row_indexer,col_indexer] = value instead\n",
      "\n",
      "See the caveats in the documentation: https://pandas.pydata.org/pandas-docs/stable/user_guide/indexing.html#returning-a-view-versus-a-copy\n",
      "  pob_city_acot['nm_mun']=pob_city_acot['nm_mun'].apply(replace_accented)\n"
     ]
    }
   ],
   "source": [
    "# We change the accents and the format of the cities\n",
    "pob_city_acot['nm_mun']=pob_city_acot['nm_mun'].apply(replace_accented)"
   ]
  },
  {
   "cell_type": "markdown",
   "metadata": {},
   "source": [
    "## EDA"
   ]
  },
  {
   "cell_type": "markdown",
   "metadata": {},
   "source": [
    "### Percentage of the population covered per city"
   ]
  },
  {
   "cell_type": "code",
   "execution_count": 27,
   "metadata": {},
   "outputs": [],
   "source": [
    "#Groupby the cities to plot data\n",
    "subw_data_city = subw_data.groupby(['city'])['code'].count().reset_index()\n",
    "subw_data_city_pop = subw_data_city.merge(pob_city_acot,how='left',left_on='city',right_on='nm_mun')\n",
    "total=pd.DataFrame({'city':'total','percentage_pop':[subw_data_city_pop['percentage_pop'].sum()]})\n",
    "subw_data_city_pop=pd.concat([subw_data_city_pop,total])\n",
    "subw_data_city_top=subw_data_city_pop.sort_values(by='percentage_pop',ascending=False).head(10)"
   ]
  },
  {
   "cell_type": "code",
   "execution_count": 28,
   "metadata": {},
   "outputs": [],
   "source": [
    "subw_data_city_top=subw_data_city_top.drop(['code'],axis=1)"
   ]
  },
  {
   "cell_type": "code",
   "execution_count": 29,
   "metadata": {},
   "outputs": [
    {
     "name": "stderr",
     "output_type": "stream",
     "text": [
      "C:\\Users\\Santiago\\AppData\\Local\\Temp\\ipykernel_19036\\1504473814.py:6: UserWarning: set_ticklabels() should only be used with a fixed number of ticks, i.e. after set_ticks() or using a FixedLocator.\n",
      "  ax.set_xticklabels(subw_data_city_top['city'], rotation=45, ha='right')\n"
     ]
    },
    {
     "data": {
      "image/png": "[encoded data removed]",
      "text/plain": [
       "<Figure size 640x480 with 1 Axes>"
      ]
     },
     "metadata": {},
     "output_type": "display_data"
    }
   ],
   "source": [
    "# Barplot of the population percentage per city and the total\n",
    "fig,ax=plt.subplots()\n",
    "highlight_city='total'\n",
    "colors = ['red' if city == highlight_city else 'blue' for city in subw_data_city_top['city']]\n",
    "bars=ax.bar(x=subw_data_city_top['city'],height=subw_data_city_top['percentage_pop'],color=colors)\n",
    "ax.set_xticklabels(subw_data_city_top['city'], rotation=45, ha='right')\n",
    "ax.bar_label(bars, fmt='%.2f%%')\n",
    "\n",
    "plt.show()"
   ]
  },
  {
   "cell_type": "markdown",
   "metadata": {},
   "source": [
    "### Percentage of the population to be covered"
   ]
  },
  {
   "cell_type": "code",
   "execution_count": 30,
   "metadata": {},
   "outputs": [],
   "source": [
    "# Function to calculate the accumulated percentage\n",
    "def acum_per(data):\n",
    "    result=[]\n",
    "    acum=0\n",
    "    for i in data:\n",
    "        acum += i\n",
    "        result.append(acum)\n",
    "        return result"
   ]
  },
  {
   "cell_type": "code",
   "execution_count": 31,
   "metadata": {},
   "outputs": [
    {
     "data": {
      "text/html": [
       "<div>\n",
       "<style scoped>\n",
       "    .dataframe tbody tr th:only-of-type {\n",
       "        vertical-align: middle;\n",
       "    }\n",
       "\n",
       "    .dataframe tbody tr th {\n",
       "        vertical-align: top;\n",
       "    }\n",
       "\n",
       "    .dataframe thead th {\n",
       "        text-align: right;\n",
       "    }\n",
       "</style>\n",
       "<table border=\"1\" class=\"dataframe\">\n",
       "  <thead>\n",
       "    <tr style=\"text-align: right;\">\n",
       "      <th></th>\n",
       "      <th>city</th>\n",
       "      <th>code</th>\n",
       "      <th>nm_mun</th>\n",
       "      <th>quantidade_de_moradores</th>\n",
       "      <th>percentage_pop</th>\n",
       "      <th>acum_per</th>\n",
       "    </tr>\n",
       "  </thead>\n",
       "  <tbody>\n",
       "    <tr>\n",
       "      <th>0</th>\n",
       "      <td>NaN</td>\n",
       "      <td>NaN</td>\n",
       "      <td>total</td>\n",
       "      <td>NaN</td>\n",
       "      <td>38.687871</td>\n",
       "      <td>NaN</td>\n",
       "    </tr>\n",
       "    <tr>\n",
       "      <th>3191</th>\n",
       "      <td>NaN</td>\n",
       "      <td>NaN</td>\n",
       "      <td>campos-dos-goytacazes</td>\n",
       "      <td>481621.0</td>\n",
       "      <td>0.237765</td>\n",
       "      <td>0.237765</td>\n",
       "    </tr>\n",
       "    <tr>\n",
       "      <th>934</th>\n",
       "      <td>NaN</td>\n",
       "      <td>NaN</td>\n",
       "      <td>caucaia</td>\n",
       "      <td>355564.0</td>\n",
       "      <td>0.175534</td>\n",
       "      <td>0.413299</td>\n",
       "    </tr>\n",
       "    <tr>\n",
       "      <th>264</th>\n",
       "      <td>NaN</td>\n",
       "      <td>NaN</td>\n",
       "      <td>santarem</td>\n",
       "      <td>330355.0</td>\n",
       "      <td>0.163089</td>\n",
       "      <td>0.576388</td>\n",
       "    </tr>\n",
       "    <tr>\n",
       "      <th>1162</th>\n",
       "      <td>NaN</td>\n",
       "      <td>NaN</td>\n",
       "      <td>mossoro</td>\n",
       "      <td>263729.0</td>\n",
       "      <td>0.130197</td>\n",
       "      <td>0.706584</td>\n",
       "    </tr>\n",
       "    <tr>\n",
       "      <th>994</th>\n",
       "      <td>NaN</td>\n",
       "      <td>NaN</td>\n",
       "      <td>maracanau</td>\n",
       "      <td>234474.0</td>\n",
       "      <td>0.115754</td>\n",
       "      <td>0.822339</td>\n",
       "    </tr>\n",
       "    <tr>\n",
       "      <th>1652</th>\n",
       "      <td>NaN</td>\n",
       "      <td>NaN</td>\n",
       "      <td>arapiraca</td>\n",
       "      <td>234359.0</td>\n",
       "      <td>0.115698</td>\n",
       "      <td>0.938037</td>\n",
       "    </tr>\n",
       "    <tr>\n",
       "      <th>3213</th>\n",
       "      <td>NaN</td>\n",
       "      <td>NaN</td>\n",
       "      <td>mage</td>\n",
       "      <td>227170.0</td>\n",
       "      <td>0.112149</td>\n",
       "      <td>1.050185</td>\n",
       "    </tr>\n",
       "    <tr>\n",
       "      <th>5090</th>\n",
       "      <td>NaN</td>\n",
       "      <td>NaN</td>\n",
       "      <td>viamao</td>\n",
       "      <td>224095.0</td>\n",
       "      <td>0.110631</td>\n",
       "      <td>1.160816</td>\n",
       "    </tr>\n",
       "    <tr>\n",
       "      <th>3215</th>\n",
       "      <td>NaN</td>\n",
       "      <td>NaN</td>\n",
       "      <td>marica</td>\n",
       "      <td>197175.0</td>\n",
       "      <td>0.097341</td>\n",
       "      <td>1.258156</td>\n",
       "    </tr>\n",
       "  </tbody>\n",
       "</table>\n",
       "</div>"
      ],
      "text/plain": [
       "     city  code                 nm_mun  quantidade_de_moradores  \\\n",
       "0     NaN   NaN                  total                      NaN   \n",
       "3191  NaN   NaN  campos-dos-goytacazes                 481621.0   \n",
       "934   NaN   NaN                caucaia                 355564.0   \n",
       "264   NaN   NaN               santarem                 330355.0   \n",
       "1162  NaN   NaN                mossoro                 263729.0   \n",
       "994   NaN   NaN              maracanau                 234474.0   \n",
       "1652  NaN   NaN              arapiraca                 234359.0   \n",
       "3213  NaN   NaN                   mage                 227170.0   \n",
       "5090  NaN   NaN                 viamao                 224095.0   \n",
       "3215  NaN   NaN                 marica                 197175.0   \n",
       "\n",
       "      percentage_pop  acum_per  \n",
       "0          38.687871       NaN  \n",
       "3191        0.237765  0.237765  \n",
       "934         0.175534  0.413299  \n",
       "264         0.163089  0.576388  \n",
       "1162        0.130197  0.706584  \n",
       "994         0.115754  0.822339  \n",
       "1652        0.115698  0.938037  \n",
       "3213        0.112149  1.050185  \n",
       "5090        0.110631  1.160816  \n",
       "3215        0.097341  1.258156  "
      ]
     },
     "execution_count": 31,
     "metadata": {},
     "output_type": "execute_result"
    }
   ],
   "source": [
    "# Groupby the cities that subway does not have restaurant \n",
    "subw_data_not_city = subw_data_city.merge(pob_city_acot,how='right',left_on='city',right_on='nm_mun')\n",
    "subw_data_not_city=subw_data_not_city[subw_data_not_city['city'].isna()]\n",
    "subw_data_not_city.sort_values(by='percentage_pop',ascending=False,inplace=True)\n",
    "subw_data_not_city['acum_per']=subw_data_not_city['percentage_pop'].cumsum()\n",
    "total=pd.DataFrame({'nm_mun':'total','percentage_pop':[subw_data_not_city['percentage_pop'].sum()]})\n",
    "subw_data_not_city_pop=pd.concat([subw_data_not_city,total])\n",
    "subw_data_not_city_pop_top=subw_data_not_city_pop.sort_values(by='percentage_pop',ascending=False).head(10)\n",
    "subw_data_not_city_pop_top"
   ]
  },
  {
   "cell_type": "code",
   "execution_count": 32,
   "metadata": {},
   "outputs": [],
   "source": [
    "subw_data_not_city_pop_top=subw_data_not_city_pop_top.drop(['city','code'],axis=1)"
   ]
  },
  {
   "cell_type": "code",
   "execution_count": 33,
   "metadata": {},
   "outputs": [
    {
     "name": "stderr",
     "output_type": "stream",
     "text": [
      "C:\\Users\\Santiago\\AppData\\Local\\Temp\\ipykernel_19036\\2410158405.py:6: UserWarning: set_ticklabels() should only be used with a fixed number of ticks, i.e. after set_ticks() or using a FixedLocator.\n",
      "  ax.set_xticklabels(subw_data_not_city_pop_top['nm_mun'], rotation=45, ha='right')\n"
     ]
    },
    {
     "data": {
      "image/png": "[encoded data removed]",
      "text/plain": [
       "<Figure size 640x480 with 1 Axes>"
      ]
     },
     "metadata": {},
     "output_type": "display_data"
    }
   ],
   "source": [
    "# Plot of the population percentage where subway does not have restaurant\n",
    "fig,ax=plt.subplots()\n",
    "highlight_city='total'\n",
    "colors = ['red' if city == highlight_city else 'blue' for city in subw_data_not_city_pop_top['nm_mun']]\n",
    "bars=ax.bar(x=subw_data_not_city_pop_top['nm_mun'],height=subw_data_not_city_pop_top['percentage_pop'],color=colors)\n",
    "ax.set_xticklabels(subw_data_not_city_pop_top['nm_mun'], rotation=45, ha='right')\n",
    "ax.bar_label(bars, fmt='%.2f%%')\n",
    "ax.set_title('Population top 10 cities without restaurant')\n",
    "plt.show()"
   ]
  },
  {
   "cell_type": "markdown",
   "metadata": {},
   "source": [
    "### Percentage Accumulated"
   ]
  },
  {
   "cell_type": "code",
   "execution_count": 34,
   "metadata": {},
   "outputs": [],
   "source": [
    "# Percentage accummulated of the top 10 cities where Subway does not have restaurant\n",
    "subw_data_not_city_2 = subw_data_not_city[subw_data_not_city['acum_per']<2.008]"
   ]
  },
  {
   "cell_type": "code",
   "execution_count": 35,
   "metadata": {},
   "outputs": [
    {
     "name": "stderr",
     "output_type": "stream",
     "text": [
      "C:\\Users\\Santiago\\AppData\\Local\\Temp\\ipykernel_19036\\1185418363.py:3: UserWarning: set_ticklabels() should only be used with a fixed number of ticks, i.e. after set_ticks() or using a FixedLocator.\n",
      "  ax.set_xticklabels(subw_data_not_city_2['nm_mun'], rotation=45, ha='right')\n"
     ]
    },
    {
     "data": {
      "image/png": "[encoded data removed]",
      "text/plain": [
       "<Figure size 640x480 with 1 Axes>"
      ]
     },
     "metadata": {},
     "output_type": "display_data"
    }
   ],
   "source": [
    "fig,ax=plt.subplots()\n",
    "bars=ax.bar(x=subw_data_not_city_2['nm_mun'],height=subw_data_not_city_2['acum_per'])\n",
    "ax.set_xticklabels(subw_data_not_city_2['nm_mun'], rotation=45, ha='right')\n",
    "ax.bar_label(bars, fmt='%.2f%%')\n",
    "\n",
    "plt.show()"
   ]
  },
  {
   "cell_type": "markdown",
   "metadata": {},
   "source": [
    "Based on the analysis made, currently subway is covering **61.31%** of Brasil Population and to get to an additional 2% of the population, Subway has to open new branches in the cities shown in the bar chart. This cities were sorted from the highest population percentage to the least population percentage, so when the accumulated percentage reaches 2%, the list of cities are taken to open new restaurants.  \n",
    "The list of cities is the following:  \n",
    "campos-dos-goytacazes, caucaia, santarem, mossoro, maracanau, arapiraca, mage, viamao, marica, castanhal, alvorada, ferraz-de-vasconcelos, mesquita, sao-caetano-do-sul, linhares, abaetetuba, caxias, camaragibe.  \n",
    "In total it would be **18** within the cities."
   ]
  },
  {
   "cell_type": "markdown",
   "metadata": {},
   "source": [
    "### Map of the branches"
   ]
  },
  {
   "cell_type": "code",
   "execution_count": 36,
   "metadata": {},
   "outputs": [],
   "source": [
    "# Function to extract coordenates\n",
    "def extract_coordinates(url):\n",
    "    match = re.search(r\"destination=(-?\\d+\\.\\d+),(-?\\d+\\.\\d+)\", url)\n",
    "    if match:\n",
    "        latitude = float(match.group(1))\n",
    "        longitude = float(match.group(2))\n",
    "        return latitude, longitude\n",
    "    return None, None\n",
    "\n",
    "subw_data[['latitude', 'longitude']] = subw_data['maps__link'].apply(lambda x: pd.Series(extract_coordinates(x)))"
   ]
  },
  {
   "cell_type": "code",
   "execution_count": 37,
   "metadata": {},
   "outputs": [],
   "source": [
    "subw_data.to_csv('subw_data.csv',index=False)"
   ]
  },
  {
   "cell_type": "code",
   "execution_count": 38,
   "metadata": {},
   "outputs": [],
   "source": [
    "# The dataset of the coordinates is merged with the population percentage\n",
    "subw_data_geo = subw_data.merge(pob_city_acot,how='inner',left_on='city',right_on='nm_mun')\n"
   ]
  },
  {
   "cell_type": "code",
   "execution_count": 39,
   "metadata": {},
   "outputs": [
    {
     "name": "stderr",
     "output_type": "stream",
     "text": [
      "C:\\Users\\Santiago\\AppData\\Local\\Temp\\ipykernel_19036\\2476657172.py:2: SettingWithCopyWarning: \n",
      "A value is trying to be set on a copy of a slice from a DataFrame.\n",
      "Try using .loc[row_indexer,col_indexer] = value instead\n",
      "\n",
      "See the caveats in the documentation: https://pandas.pydata.org/pandas-docs/stable/user_guide/indexing.html#returning-a-view-versus-a-copy\n",
      "  subw_data_not_city_2['nm_mun']='Brasil, '+subw_data_not_city_2['nm_mun']\n"
     ]
    }
   ],
   "source": [
    "subw_data_city_pop['city']='Brasil, '+subw_data_city_pop['city']\n",
    "subw_data_not_city_2['nm_mun']='Brasil, '+subw_data_not_city_2['nm_mun']"
   ]
  },
  {
   "cell_type": "code",
   "execution_count": 40,
   "metadata": {},
   "outputs": [],
   "source": [
    "# Function that finds the location based on the city\n",
    "geolocator = Nominatim(user_agent=\"city_geocoder\",timeout=10)\n",
    "def get_coordinates(city):\n",
    "    location = geolocator.geocode(city)\n",
    "    if location:\n",
    "        return location.latitude, location.longitude\n",
    "    else:\n",
    "        return None, None\n",
    "# The function is applied to the dataset with subway restaurant\n",
    "subw_data_city_pop[['latitude', 'longitude']] = subw_data_city_pop['city'].apply(lambda city: pd.Series(get_coordinates(city)))\n"
   ]
  },
  {
   "cell_type": "code",
   "execution_count": 41,
   "metadata": {},
   "outputs": [
    {
     "name": "stderr",
     "output_type": "stream",
     "text": [
      "C:\\Users\\Santiago\\AppData\\Local\\Temp\\ipykernel_19036\\441739763.py:2: SettingWithCopyWarning: \n",
      "A value is trying to be set on a copy of a slice from a DataFrame.\n",
      "Try using .loc[row_indexer,col_indexer] = value instead\n",
      "\n",
      "See the caveats in the documentation: https://pandas.pydata.org/pandas-docs/stable/user_guide/indexing.html#returning-a-view-versus-a-copy\n",
      "  subw_data_not_city_2[['latitude', 'longitude']] = subw_data_not_city_2['nm_mun'].apply(lambda city: pd.Series(get_coordinates(city)))\n",
      "C:\\Users\\Santiago\\AppData\\Local\\Temp\\ipykernel_19036\\441739763.py:2: SettingWithCopyWarning: \n",
      "A value is trying to be set on a copy of a slice from a DataFrame.\n",
      "Try using .loc[row_indexer,col_indexer] = value instead\n",
      "\n",
      "See the caveats in the documentation: https://pandas.pydata.org/pandas-docs/stable/user_guide/indexing.html#returning-a-view-versus-a-copy\n",
      "  subw_data_not_city_2[['latitude', 'longitude']] = subw_data_not_city_2['nm_mun'].apply(lambda city: pd.Series(get_coordinates(city)))\n"
     ]
    }
   ],
   "source": [
    "# The function is applied to the dataset filtered without subway restaurant\n",
    "subw_data_not_city_2[['latitude', 'longitude']] = subw_data_not_city_2['nm_mun'].apply(lambda city: pd.Series(get_coordinates(city)))"
   ]
  },
  {
   "cell_type": "code",
   "execution_count": 42,
   "metadata": {},
   "outputs": [],
   "source": [
    "#subw_data_city_pop.to_csv(output_path+'subw_data_city_pop.csv',index=False)"
   ]
  },
  {
   "cell_type": "code",
   "execution_count": 43,
   "metadata": {},
   "outputs": [],
   "source": [
    "subw_data_city_pop.reset_index(drop=True,inplace=True)"
   ]
  },
  {
   "cell_type": "code",
   "execution_count": 44,
   "metadata": {},
   "outputs": [],
   "source": [
    "subw_data_city_pop.dropna(inplace=True)"
   ]
  },
  {
   "cell_type": "code",
   "execution_count": 45,
   "metadata": {},
   "outputs": [],
   "source": [
    "# Initialize map\n",
    "m = folium.Map(\n",
    "    location=[-14.2350, -51.9253],  # center around Africa\n",
    "    zoom_start=4,  # dezoom\n",
    "    tiles='cartodb positron'  # background style\n",
    ")\n",
    "\n",
    "for idx, row in subw_data_geo.iterrows():\n",
    "    folium.CircleMarker(\n",
    "        location=[row['latitude'], row['longitude']],\n",
    "        radius=2,\n",
    "        color='blue',\n",
    "        fill=True,\n",
    "        fill_opacity=0.5,\n",
    "        weight=1,\n",
    "        popup=f'<b>{row['name']}</b><br>Lat: {row['latitude']}<br>Lon: {row['longitude']}', \n",
    "        tooltip=row['city'] \n",
    "    ).add_to(m)\n",
    "for idx, row in subw_data_city_pop.iterrows():\n",
    "    folium.CircleMarker(\n",
    "        location=[row['latitude'], row['longitude']],\n",
    "        color='red',\n",
    "        fill=True,\n",
    "        radius=row['percentage_pop']*8,\n",
    "        fill_opacity=0.5,\n",
    "        weight=1,\n",
    "        popup=f'<b>{row['city']}</b><br>Lat: {row['latitude']}<br>Lon: {row['longitude']}<br>Population:{row['percentage_pop']}', \n",
    "        tooltip=row['city'] \n",
    "    ).add_to(m)\n",
    "for idx, row in subw_data_not_city_2.iterrows():\n",
    "    folium.CircleMarker(\n",
    "        location=[row['latitude'], row['longitude']],\n",
    "        color='yellow',\n",
    "        fill=True,\n",
    "        radius=row['percentage_pop']*100,\n",
    "        fill_opacity=0.5,\n",
    "        weight=1,\n",
    "        popup=f'<b>{row['nm_mun']}</b><br>Lat: {row['latitude']}<br>Lon: {row['longitude']}<br>Population:{row['percentage_pop']}', \n",
    "        tooltip=row['nm_mun']\n",
    "    ).add_to(m)\n",
    "\n",
    "\n",
    "legend_html = \"\"\"\n",
    "    <div style=\"position: fixed; \n",
    "                bottom: 50px; left: 50px; width: 250px; height: 150px; \n",
    "                background-color: white; border:2px solid grey; z-index:9999; font-size:14px;\">\n",
    "        <b>Map</b><br>\n",
    "        <ul>\n",
    "            <li><span style=\"background-color: yellow; width: 20px; height: 20px; display: inline-block;\"></span> City without restaurant</li>\n",
    "            <li><span style=\"background-color: red; width: 20px; height: 20px; display: inline-block;\"></span> City with restaurant</li>\n",
    "            <li><span style=\"background-color: blue; width: 20px; height: 20px; display: inline-block;\"></span> Restaurant</li>\n",
    "        </ul>\n",
    "    </div>\n",
    "\"\"\"\n",
    "\n",
    "\n",
    "m.get_root().html.add_child(folium.Element(legend_html))\n",
    "\n",
    "m.save(\"mapa_bubble.html\")"
   ]
  },
  {
   "cell_type": "markdown",
   "metadata": {},
   "source": [
    "### Overlap with McDonalds"
   ]
  },
  {
   "cell_type": "code",
   "execution_count": 46,
   "metadata": {},
   "outputs": [
    {
     "name": "stdout",
     "output_type": "stream",
     "text": [
      "Percentage overlap with McDonald's within 1 km: 41.6%\n",
      "Percentage overlap with McDonald's within 5 km: 72.12307692307692%\n",
      "Percentage overlap with McDonald's within 10 km: 78.0923076923077%\n",
      "Few Subway locations overlap with McDonald's within 1 km. Opportunity for growth.\n",
      "High competition in 5 km zones. Consider targeting less competitive areas.\n",
      "High competition in 10 km zones. Focus on underserved locations.\n"
     ]
    },
    {
     "data": {
      "image/png": "[encoded data removed]",
      "text/plain": [
       "<Figure size 1000x600 with 1 Axes>"
      ]
     },
     "metadata": {},
     "output_type": "display_data"
    }
   ],
   "source": [
    "# Calculation of the locations overlaped \n",
    "subway=subw_data[['name','latitude','longitude']]\n",
    "mcdonalds=mc_data[['name','latitude','longitude']]\n",
    "\n",
    "subway_gdf = gpd.GeoDataFrame(subway, \n",
    "                               geometry=gpd.points_from_xy(subway.longitude, subway.latitude))\n",
    "\n",
    "mcdonalds_gdf = gpd.GeoDataFrame(mcdonalds, \n",
    "                                  geometry=gpd.points_from_xy(mcdonalds.longitude, mcdonalds.latitude))\n",
    "\n",
    "def calculate_overlap(subway_gdf, mcdonalds_gdf, radius_km):\n",
    "    overlaps = 0\n",
    "    total_subways = len(subway_gdf)\n",
    "    \n",
    "    for _, subway in subway_gdf.iterrows():\n",
    "        subway_point = subway['geometry']\n",
    "        \n",
    "        # Check McDonald's locations within the radius\n",
    "        for _, mcdonald in mcdonalds_gdf.iterrows():\n",
    "            mcdonald_point = mcdonald['geometry']\n",
    "            \n",
    "            # Calculate the distance in km between Subway and McDonald's locations\n",
    "            distance = geodesic((subway_point.y, subway_point.x), (mcdonald_point.y, mcdonald_point.x)).km\n",
    "            \n",
    "            if distance <= radius_km:\n",
    "                overlaps += 1\n",
    "                break  # Once overlap is found, no need to check further McDonald's locations\n",
    "    \n",
    "    # Calculate the percentage of Subway locations that overlap\n",
    "    overlap_percentage = (overlaps / total_subways) * 100\n",
    "    return overlap_percentage\n",
    "\n",
    "overlap_1km = calculate_overlap(subway_gdf, mcdonalds_gdf, 1)\n",
    "overlap_5km = calculate_overlap(subway_gdf, mcdonalds_gdf, 5)\n",
    "overlap_10km = calculate_overlap(subway_gdf, mcdonalds_gdf, 10)\n",
    "\n",
    "print(f\"Percentage overlap with McDonald's within 1 km: {overlap_1km}%\")\n",
    "print(f\"Percentage overlap with McDonald's within 5 km: {overlap_5km}%\")\n",
    "print(f\"Percentage overlap with McDonald's within 10 km: {overlap_10km}%\")\n",
    "\n",
    "if overlap_1km > 50:\n",
    "    print(\"High competition in 1 km zones. Consider avoiding these areas.\")\n",
    "else:\n",
    "    print(\"Few Subway locations overlap with McDonald's within 1 km. Opportunity for growth.\")\n",
    "\n",
    "if overlap_5km > 50:\n",
    "    print(\"High competition in 5 km zones. Consider targeting less competitive areas.\")\n",
    "\n",
    "if overlap_10km > 50:\n",
    "    print(\"High competition in 10 km zones. Focus on underserved locations.\")\n",
    "\n",
    "# Plot the Subway and McDonald's locations\n",
    "ax = subway_gdf.plot(color='blue', marker='o', label='Subway', figsize=(10, 6))\n",
    "mcdonalds_gdf.plot(ax=ax, color='red', marker='x', label=\"McDonald's\")\n",
    "plt.title(\"Subway vs McDonald's Locations\")\n",
    "plt.legend()\n",
    "plt.show()\n"
   ]
  },
  {
   "cell_type": "code",
   "execution_count": 47,
   "metadata": {},
   "outputs": [],
   "source": [
    "# Initialize map\n",
    "m = folium.Map(\n",
    "    location=[-14.2350, -51.9253],  # center around Africa\n",
    "    zoom_start=4,  # dezoom\n",
    "    tiles='cartodb positron'  # background style\n",
    ")\n",
    "\n",
    "for idx, row in subw_data_geo.iterrows():\n",
    "    folium.CircleMarker(\n",
    "        location=[row['latitude'], row['longitude']],\n",
    "        radius=2,\n",
    "        color='blue',\n",
    "        fill=True,\n",
    "        fill_opacity=0.5,\n",
    "        weight=1,\n",
    "        popup=f'<b>{row['name']}</b><br>Lat: {row['latitude']}<br>Lon: {row['longitude']}', \n",
    "        tooltip=row['city'] \n",
    "    ).add_to(m)\n",
    "for idx, row in mcdonalds.iterrows():\n",
    "    folium.CircleMarker(\n",
    "        location=[row['latitude'], row['longitude']],\n",
    "        color='red',\n",
    "        fill=True,\n",
    "        radius=2,\n",
    "        fill_opacity=0.5,\n",
    "        weight=1,\n",
    "        popup=f'<b>{row['name']}</b><br>Lat: {row['latitude']}<br>Lon: {row['longitude']}<br>', \n",
    "        tooltip=row['name'] \n",
    "    ).add_to(m)\n",
    "\n",
    "\n",
    "\n",
    "legend_html = \"\"\"\n",
    "    <div style=\"position: fixed; \n",
    "                bottom: 50px; left: 50px; width: 250px; height: 150px; \n",
    "                background-color: white; border:2px solid grey; z-index:9999; font-size:14px;\">\n",
    "        <b>Map</b><br>\n",
    "        <ul>\n",
    "            <li><span style=\"background-color: blue; width: 20px; height: 20px; display: inline-block;\"></span> Subway</li>\n",
    "            <li><span style=\"background-color: red; width: 20px; height: 20px; display: inline-block;\"></span> McDonalds</li>\n",
    "        </ul>\n",
    "    </div>\n",
    "\"\"\"\n",
    "\n",
    "# Añadir la leyenda al mapa\n",
    "m.get_root().html.add_child(folium.Element(legend_html))\n",
    "\n",
    "m.save(\"overlap_map.html\")"
   ]
  },
  {
   "cell_type": "markdown",
   "metadata": {},
   "source": [
    "- Percentage overlap with McDonald's within 1 km: 41.6%\n",
    "- Percentage overlap with McDonald's within 5 km: 72.12307692307692%\n",
    "- Percentage overlap with McDonald's within 10 km: 78.0923076923077%\n",
    "- Few Subway locations overlap with McDonald's within 1 km. Opportunity for growth.\n",
    "- High competition in 5 km zones. Consider targeting less competitive areas.\n",
    "- High competition in 10 km zones. Focus on underserved locations."
   ]
  },
  {
   "cell_type": "markdown",
   "metadata": {},
   "source": [
    "### Social Sentiment"
   ]
  },
  {
   "cell_type": "markdown",
   "metadata": {},
   "source": [
    "Sentiment analysis is made making a web scrapping of the links of each restaurant to get the rating."
   ]
  },
  {
   "cell_type": "code",
   "execution_count": 48,
   "metadata": {},
   "outputs": [],
   "source": [
    "def rating_sentiment(url):\n",
    "    response = requests.get(url)\n",
    "    response.raise_for_status()  # Raise an error for failed requests\n",
    "    soup = BeautifulSoup(response.text, 'lxml')\n",
    "    # Extracting all rating values\n",
    "    ratings = [float(rating.text.strip()) for rating in soup.find_all('strong', class_='rating-value')]\n",
    "\n",
    "    # Calculate the mean\n",
    "    mean_rating = np.mean(ratings)\n",
    "\n",
    "    return mean_rating\n"
   ]
  },
  {
   "cell_type": "code",
   "execution_count": 49,
   "metadata": {},
   "outputs": [],
   "source": [
    "subw_data_sentiment=subw_data_geo.sort_values(by='percentage_pop',ascending=False).head(700)"
   ]
  },
  {
   "cell_type": "code",
   "execution_count": 50,
   "metadata": {},
   "outputs": [
    {
     "name": "stderr",
     "output_type": "stream",
     "text": [
      "c:\\Users\\Santiago\\AppData\\Local\\Programs\\Python\\Python312\\Lib\\site-packages\\numpy\\core\\fromnumeric.py:3504: RuntimeWarning: Mean of empty slice.\n",
      "  return _methods._mean(a, axis=axis, dtype=dtype,\n",
      "c:\\Users\\Santiago\\AppData\\Local\\Programs\\Python\\Python312\\Lib\\site-packages\\numpy\\core\\_methods.py:129: RuntimeWarning: invalid value encountered in scalar divide\n",
      "  ret = ret.dtype.type(ret / rcount)\n"
     ]
    }
   ],
   "source": [
    "subw_data_sentiment['rating']=subw_data_sentiment['restaurant__link'].apply(rating_sentiment)"
   ]
  },
  {
   "cell_type": "code",
   "execution_count": 51,
   "metadata": {},
   "outputs": [],
   "source": [
    "subw_data_sentiment_gr=subw_data_sentiment.groupby(['city'],as_index=False)['rating'].mean()"
   ]
  },
  {
   "cell_type": "code",
   "execution_count": 52,
   "metadata": {},
   "outputs": [],
   "source": [
    "subw_data_sentiment_gr[['latitude', 'longitude']] = subw_data_sentiment_gr['city'].apply(lambda city: pd.Series(get_coordinates(city)))"
   ]
  },
  {
   "cell_type": "code",
   "execution_count": 53,
   "metadata": {},
   "outputs": [],
   "source": [
    "# Initialize map\n",
    "m = folium.Map(\n",
    "    location=[-14.2350, -51.9253],  # center around Africa\n",
    "    zoom_start=4,  # dezoom\n",
    "    tiles='cartodb positron'  # background style\n",
    ")\n",
    "\n",
    "for idx, row in subw_data_sentiment_gr.iterrows():\n",
    "    folium.CircleMarker(\n",
    "        location=[row['latitude'], row['longitude']],\n",
    "        radius=row['rating']*2,\n",
    "        color='blue',\n",
    "        fill=True,\n",
    "        fill_opacity=0.5,\n",
    "        weight=1,\n",
    "        popup=f'<b>{row['city']}</b><br>Lat: {row['latitude']}<br>Lon: {row['longitude']}', \n",
    "        tooltip=row['city'] \n",
    "    ).add_to(m)\n",
    "\n",
    "\n",
    "m.save(\"map_sentiment.html\")"
   ]
  },
  {
   "cell_type": "code",
   "execution_count": 54,
   "metadata": {},
   "outputs": [],
   "source": [
    "subw_data_sentiment_gr=subw_data_sentiment_gr[subw_data_sentiment_gr['city']!='cuiaba']\n",
    "total_subw=pd.DataFrame({'city':'Total','rating':[subw_data_sentiment_gr['rating'].mean()]})\n",
    "subw_data_sentiment_gr=pd.concat([subw_data_sentiment_gr,total_subw])"
   ]
  },
  {
   "cell_type": "code",
   "execution_count": 55,
   "metadata": {},
   "outputs": [],
   "source": [
    "with pd.ExcelWriter('output.xlsx', engine='openpyxl') as writer:\n",
    "    subw_data_sentiment_gr.to_excel(writer,sheet_name='subw_data_sentiment_gr',index=False)\n",
    "    subw_data_city_top.to_excel(writer,sheet_name='subw_data_city_top',index=False)\n",
    "    subw_data_not_city_pop_top.to_excel(writer,sheet_name='subw_data_not_city_pop_top',index=False)\n",
    "    subw_data_geo.to_excel(writer,sheet_name='subw_data_geo',index=False)\n",
    "    subway_gdf.to_excel(writer,sheet_name='subway_gdf',index=False)\n",
    "    mcdonalds_gdf.to_excel(writer,sheet_name='mcdonalds_gdf',index=False)\n",
    "    subw_data_city_pop.to_excel(writer,sheet_name='subw_data_city_pop',index=False)\n",
    "    subw_data_not_city_2.to_excel(writer,sheet_name='subw_data_not_city_2',index=False)\n",
    "    "
   ]
  },
  {
   "cell_type": "code",
   "execution_count": 56,
   "metadata": {},
   "outputs": [
    {
     "name": "stderr",
     "output_type": "stream",
     "text": [
      "C:\\Users\\Santiago\\AppData\\Local\\Temp\\ipykernel_19036\\2745757233.py:12: UserWarning: set_ticklabels() should only be used with a fixed number of ticks, i.e. after set_ticks() or using a FixedLocator.\n",
      "  ax2.set_xticklabels(subw_data_sentiment_gr['city'],rotation=90)\n"
     ]
    },
    {
     "data": {
      "image/png": "[encoded data removed]",
      "text/plain": [
       "<Figure size 1000x700 with 1 Axes>"
      ]
     },
     "metadata": {},
     "output_type": "display_data"
    }
   ],
   "source": [
    "fig2,ax2=plt.subplots(figsize=(10,7))\n",
    "colors = ['red' if city == 'Total' else 'blue' for city in subw_data_sentiment_gr['city']]\n",
    "bars=ax2.bar(subw_data_sentiment_gr['city'],subw_data_sentiment_gr['rating'],color=colors)\n",
    "for bar in bars:\n",
    "    height = bar.get_height()  #\n",
    "    ax2.text(\n",
    "        bar.get_x() + bar.get_width() / 2, \n",
    "        height + 0,  \n",
    "        f'{height:.1f}',  \n",
    "        ha='center', va='bottom', fontsize=10, color='black'\n",
    "    )\n",
    "ax2.set_xticklabels(subw_data_sentiment_gr['city'],rotation=90)\n",
    "plt.tight_layout()\n",
    "fig2.savefig('sentiment_top_bar.png')\n"
   ]
  },
  {
   "cell_type": "markdown",
   "metadata": {},
   "source": [
    "In conclusion, we see the main cities with an average of 4.9 of rating wich is excelent performance."
   ]
  },
  {
   "cell_type": "markdown",
   "metadata": {},
   "source": [
    "## Summary"
   ]
  },
  {
   "cell_type": "markdown",
   "metadata": {},
   "source": [
    "- Currently the brand is geting to 61 % of brazil, however, building restaurants in other cities with the highest population is needed to get to the additional 2% of brazil's population.\n",
    "\n",
    "- To stay away from the competence, Subway could build restaurants in the north-east and east of brazil in order to get good sales and don't overlap with McDonalds.\n",
    "\n",
    "- Lastly, Subway must keep the performance of their main restaurants, therefore restaurants in cities such as Sao Paulo, Brasilia, Belo Horizonte, Rio de Janeiro and so on, will get more sales and bring satisfaction tu the customers."
   ]
  }
 ],
 "metadata": {
  "kernelspec": {
   "display_name": "Python 3",
   "language": "python",
   "name": "python3"
  },
  "language_info": {
   "codemirror_mode": {
    "name": "ipython",
    "version": 3
   },
   "file_extension": ".py",
   "mimetype": "text/x-python",
   "name": "python",
   "nbconvert_exporter": "python",
   "pygments_lexer": "ipython3",
   "version": "3.12.0"
  }
 },
 "nbformat": 4,
 "nbformat_minor": 2
}
